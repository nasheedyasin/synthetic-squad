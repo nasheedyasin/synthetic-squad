{
 "cells": [
  {
   "cell_type": "code",
   "execution_count": null,
   "outputs": [],
   "source": [
    "import os\n",
    "os.chdir(\"../src/\")"
   ],
   "metadata": {
    "collapsed": false,
    "pycharm": {
     "name": "#%%\n"
    }
   }
  },
  {
   "cell_type": "markdown",
   "source": [
    "# POS + ROBERTA TRAIN"
   ],
   "metadata": {
    "collapsed": false,
    "pycharm": {
     "name": "#%% md\n"
    }
   }
  },
  {
   "cell_type": "code",
   "execution_count": null,
   "outputs": [],
   "source": [
    "\n",
    "from bert_tfidf import *\n",
    "import pandas as pd\n",
    "train_df = pd.read_csv('../data/liwc_pos_dep_tr.csv')\n",
    "test_df = pd.read_csv('../data/liwc_pos_dep_eval.csv')\n",
    "reddit_df = pd.read_csv('../data/liwc_pos_dep_reddit.csv')\n",
    "\n",
    "labels2id = {l: i for i, l in enumerate(train_df['alg'].unique())}\n",
    "\n",
    "concat_model, vectorizer, train_dataloader, val_dataloader, test_dataloader, reddit_dataloader = data_batcher(train_df, test_df, reddit_df, labels2id, tfidf_fields=[\"pos_sequence\"], count_fields=[\"pos_sequence\"], batch_size=24, model_name=\"roberta-base\")\n",
    "\n",
    "final_model, best_model = modelling(concat_model, train_dataloader, val_dataloader, \"roberta_base_pos\", vectorizer, 5, parallel_gpu=True)\n",
    "\n",
    "evaluate_test(final_model, reddit_dataloader, labels2id, reddit_df[\"alg\"])\n",
    "\n",
    "evaluate_test(final_model, test_dataloader, labels2id, test_df[\"alg\"])"
   ],
   "metadata": {
    "collapsed": false,
    "pycharm": {
     "name": "#%%\n"
    }
   }
  },
  {
   "cell_type": "code",
   "execution_count": null,
   "outputs": [],
   "source": [],
   "metadata": {
    "collapsed": false,
    "pycharm": {
     "name": "#%%\n"
    }
   }
  },
  {
   "cell_type": "markdown",
   "source": [
    "# POS + DEP + ROBERTA"
   ],
   "metadata": {
    "collapsed": false,
    "pycharm": {
     "name": "#%% md\n"
    }
   }
  },
  {
   "cell_type": "code",
   "execution_count": null,
   "outputs": [],
   "source": [
    "from bert_tfidf import *\n",
    "import pandas as pd\n",
    "\n",
    "train_df = pd.read_csv('../data/liwc_pos_dep_tr.csv')\n",
    "test_df = pd.read_csv('../data/liwc_pos_dep_eval.csv')\n",
    "reddit_df = pd.read_csv('../data/liwc_pos_dep_reddit.csv')\n",
    "\n",
    "labels2id = {l: i for i, l in enumerate(train_df['alg'].unique())}\n",
    "\n",
    "concat_model, vectorizer, train_dataloader, val_dataloader, test_dataloader, reddit_dataloader =data_batcher(train_df, test_df, reddit_df, labels2id, tfidf_fields=[\"pos_sequence\", \"dep\"], count_fields=[\"pos_sequence\", \"dep\"], batch_size=24, model_name=\"roberta-base\")\n",
    "\n",
    "final_model, best_model = modelling(concat_model, train_dataloader, val_dataloader, \"roberta_base_pos_dep\", vectorizer, 5, parallel_gpu=True)\n",
    "\n",
    "evaluate_test(final_model, test_dataloader, labels2id, test_df[\"alg\"])\n",
    "evaluate_test(final_model, reddit_dataloader, labels2id, reddit_df[\"alg\"])"
   ],
   "metadata": {
    "collapsed": false,
    "pycharm": {
     "name": "#%%\n"
    }
   }
  },
  {
   "cell_type": "code",
   "execution_count": null,
   "outputs": [],
   "source": [],
   "metadata": {
    "collapsed": false,
    "pycharm": {
     "name": "#%%\n"
    }
   }
  },
  {
   "cell_type": "markdown",
   "source": [
    "# POS + DEP + Linguistic + Roberta"
   ],
   "metadata": {
    "collapsed": false,
    "pycharm": {
     "name": "#%% md\n"
    }
   }
  },
  {
   "cell_type": "code",
   "execution_count": null,
   "outputs": [],
   "source": [
    "from bert_tfidf import *\n",
    "import pandas as pd\n",
    "train_df = pd.read_csv('../data/liwc_pos_dep_tr.csv')\n",
    "test_df = pd.read_csv('../data/liwc_pos_dep_eval.csv')\n",
    "reddit_df = pd.read_csv('../data/liwc_pos_dep_reddit.csv')\n",
    "\n",
    "labels2id = {l: i for i, l in enumerate(train_df['alg'].unique())}\n",
    "concat_model, vectorizer, train_dataloader, val_dataloader, test_dataloader, reddit_dataloader =data_batcher(train_df, test_df, reddit_df, labels2id, tfidf_fields=[\"pos_sequence\", \"dep\"], count_fields=[\"pos_sequence\", \"dep\"], numerical_fields=[\"semantic_coherence\", \"Analytic\", \"WPS\", \"article\", \"Period\"], batch_size=24, model_name=\"roberta-base\")\n",
    "\n",
    "final_model, best_model = modelling(concat_model, train_dataloader, val_dataloader, \"roberta_base_pos_dep_liwc\", vectorizer, 5, parallel_gpu=True)\n",
    "evaluate_test(final_model, test_dataloader, labels2id, test_df[\"alg\"])\n",
    "evaluate_test(final_model, reddit_dataloader, labels2id, reddit_df[\"alg\"])\n"
   ],
   "metadata": {
    "collapsed": false,
    "pycharm": {
     "name": "#%%\n"
    }
   }
  },
  {
   "cell_type": "code",
   "execution_count": null,
   "outputs": [],
   "source": [],
   "metadata": {
    "collapsed": false,
    "pycharm": {
     "name": "#%%\n"
    }
   }
  },
  {
   "cell_type": "code",
   "execution_count": null,
   "outputs": [],
   "source": [
    "from sklearn.metrics import confusion_matrix\n",
    "import matplotlib.pyplot as plt\n",
    "import numpy as np\n",
    "\n",
    "def return_cm(y_true, y_pred, reddit=False):\n",
    "  if reddit:\n",
    "      classes = [\"human\", \"gpt3\", \"instructgpt\"]\n",
    "  else:\n",
    "      classes = [\"ctrl\", \"fair\", \"gpt\", \"gpt2\", \"gpt3\", \"grover\", \"human\", \"instructgpt\", \"pplm\", \"xlm\", \"xlnet\"]\n",
    "\n",
    "  cm = confusion_matrix(y_true, y_pred, labels=classes)\n",
    "  plt.imshow(cm, interpolation='nearest', cmap=plt.cm.Blues)\n",
    "  plt.title('Confusion Matrix')\n",
    "  plt.colorbar()\n",
    "  tick_marks = np.arange(len(classes))\n",
    "  plt.xticks(tick_marks, classes, rotation=45)\n",
    "  plt.yticks(tick_marks, classes)\n",
    "  thresh = cm.max() / 2.\n",
    "  for i, j in np.ndindex(cm.shape):\n",
    "      plt.text(j, i, format(cm[i, j], 'd'),\n",
    "              horizontalalignment=\"center\",\n",
    "              color=\"white\" if cm[i, j] > thresh else \"black\")\n",
    "  plt.xlabel('Predicted Label')\n",
    "  plt.ylabel('True Label')\n",
    "  return plt\n"
   ],
   "metadata": {
    "collapsed": false,
    "pycharm": {
     "name": "#%%\n"
    }
   }
  },
  {
   "cell_type": "code",
   "execution_count": null,
   "outputs": [],
   "source": [],
   "metadata": {
    "collapsed": false,
    "pycharm": {
     "name": "#%%\n"
    }
   }
  }
 ],
 "metadata": {
  "kernelspec": {
   "display_name": "Python 3",
   "language": "python",
   "name": "python3"
  },
  "language_info": {
   "codemirror_mode": {
    "name": "ipython",
    "version": 2
   },
   "file_extension": ".py",
   "mimetype": "text/x-python",
   "name": "python",
   "nbconvert_exporter": "python",
   "pygments_lexer": "ipython2",
   "version": "2.7.6"
  }
 },
 "nbformat": 4,
 "nbformat_minor": 0
}